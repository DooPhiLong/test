{
 "cells": [
  {
   "cell_type": "code",
   "execution_count": 1,
   "id": "6521bf3f",
   "metadata": {},
   "outputs": [],
   "source": [
    "import pandas as pd\n",
    "import numpy as np\n",
    "import matplotlib.pyplot as plt\n",
    "%matplotlib inline\n",
    "from scipy import stats\n",
    "import statsmodels.api as sm"
   ]
  },
  {
   "cell_type": "code",
   "execution_count": 35,
   "id": "edcfe22e",
   "metadata": {},
   "outputs": [],
   "source": [
    "df = pd.read_csv(r\"D:\\lap trinh\\data for analyst\\fifa_cleaned.csv\")"
   ]
  },
  {
   "cell_type": "code",
   "execution_count": 36,
   "id": "f92029be",
   "metadata": {},
   "outputs": [
    {
     "data": {
      "text/html": [
       "<div>\n",
       "<style scoped>\n",
       "    .dataframe tbody tr th:only-of-type {\n",
       "        vertical-align: middle;\n",
       "    }\n",
       "\n",
       "    .dataframe tbody tr th {\n",
       "        vertical-align: top;\n",
       "    }\n",
       "\n",
       "    .dataframe thead th {\n",
       "        text-align: right;\n",
       "    }\n",
       "</style>\n",
       "<table border=\"1\" class=\"dataframe\">\n",
       "  <thead>\n",
       "    <tr style=\"text-align: right;\">\n",
       "      <th></th>\n",
       "      <th>id</th>\n",
       "      <th>name</th>\n",
       "      <th>full_name</th>\n",
       "      <th>birth_date</th>\n",
       "      <th>age</th>\n",
       "      <th>height_cm</th>\n",
       "      <th>weight_kgs</th>\n",
       "      <th>positions</th>\n",
       "      <th>nationality</th>\n",
       "      <th>overall_rating</th>\n",
       "      <th>...</th>\n",
       "      <th>marking</th>\n",
       "      <th>standing_tackle</th>\n",
       "      <th>sliding_tackle</th>\n",
       "      <th>GK_diving</th>\n",
       "      <th>GK_handling</th>\n",
       "      <th>GK_kicking</th>\n",
       "      <th>GK_positioning</th>\n",
       "      <th>GK_reflexes</th>\n",
       "      <th>tags</th>\n",
       "      <th>traits</th>\n",
       "    </tr>\n",
       "  </thead>\n",
       "  <tbody>\n",
       "    <tr>\n",
       "      <th>0</th>\n",
       "      <td>1</td>\n",
       "      <td>L. Messi</td>\n",
       "      <td>Lionel Andrés Messi Cuccittini</td>\n",
       "      <td>24/06/1987</td>\n",
       "      <td>31</td>\n",
       "      <td>170.18</td>\n",
       "      <td>72.1</td>\n",
       "      <td>CF,RW,ST</td>\n",
       "      <td>Argentina</td>\n",
       "      <td>94</td>\n",
       "      <td>...</td>\n",
       "      <td>33</td>\n",
       "      <td>28</td>\n",
       "      <td>26</td>\n",
       "      <td>6</td>\n",
       "      <td>11</td>\n",
       "      <td>15</td>\n",
       "      <td>14</td>\n",
       "      <td>8</td>\n",
       "      <td>#Dribbler,#Distance Shooter,#Crosser,#FK Speci...</td>\n",
       "      <td>Finesse Shot,Long Shot Taker (CPU AI Only),Spe...</td>\n",
       "    </tr>\n",
       "    <tr>\n",
       "      <th>1</th>\n",
       "      <td>2</td>\n",
       "      <td>C. Eriksen</td>\n",
       "      <td>Christian  Dannemann Eriksen</td>\n",
       "      <td>14/02/1992</td>\n",
       "      <td>27</td>\n",
       "      <td>154.94</td>\n",
       "      <td>76.2</td>\n",
       "      <td>CAM,RM,CM</td>\n",
       "      <td>Denmark</td>\n",
       "      <td>88</td>\n",
       "      <td>...</td>\n",
       "      <td>59</td>\n",
       "      <td>57</td>\n",
       "      <td>22</td>\n",
       "      <td>9</td>\n",
       "      <td>14</td>\n",
       "      <td>7</td>\n",
       "      <td>7</td>\n",
       "      <td>6</td>\n",
       "      <td>#Playmaker  ,#Crosser,#FK Specialist,#Complete...</td>\n",
       "      <td>Flair,Long Shot Taker (CPU AI Only),Playmaker ...</td>\n",
       "    </tr>\n",
       "    <tr>\n",
       "      <th>2</th>\n",
       "      <td>3</td>\n",
       "      <td>P. Pogba</td>\n",
       "      <td>Paul Pogba</td>\n",
       "      <td>15/03/1993</td>\n",
       "      <td>25</td>\n",
       "      <td>190.50</td>\n",
       "      <td>83.9</td>\n",
       "      <td>CM,CAM</td>\n",
       "      <td>France</td>\n",
       "      <td>88</td>\n",
       "      <td>...</td>\n",
       "      <td>63</td>\n",
       "      <td>67</td>\n",
       "      <td>67</td>\n",
       "      <td>5</td>\n",
       "      <td>6</td>\n",
       "      <td>2</td>\n",
       "      <td>4</td>\n",
       "      <td>3</td>\n",
       "      <td>#Dribbler,#Playmaker  ,#Strength,#Complete Mid...</td>\n",
       "      <td>Flair,Long Passer (CPU AI Only),Long Shot Take...</td>\n",
       "    </tr>\n",
       "    <tr>\n",
       "      <th>3</th>\n",
       "      <td>4</td>\n",
       "      <td>L. Insigne</td>\n",
       "      <td>Lorenzo Insigne</td>\n",
       "      <td>04/06/1991</td>\n",
       "      <td>27</td>\n",
       "      <td>162.56</td>\n",
       "      <td>59.0</td>\n",
       "      <td>LW,ST</td>\n",
       "      <td>Italy</td>\n",
       "      <td>88</td>\n",
       "      <td>...</td>\n",
       "      <td>51</td>\n",
       "      <td>24</td>\n",
       "      <td>22</td>\n",
       "      <td>8</td>\n",
       "      <td>4</td>\n",
       "      <td>14</td>\n",
       "      <td>9</td>\n",
       "      <td>10</td>\n",
       "      <td>#Speedster,#Dribbler,#Crosser,#Acrobat</td>\n",
       "      <td>Finesse Shot,Long Shot Taker (CPU AI Only),Spe...</td>\n",
       "    </tr>\n",
       "    <tr>\n",
       "      <th>4</th>\n",
       "      <td>5</td>\n",
       "      <td>K. Koulibaly</td>\n",
       "      <td>Kalidou Koulibaly</td>\n",
       "      <td>20/06/1991</td>\n",
       "      <td>27</td>\n",
       "      <td>187.96</td>\n",
       "      <td>88.9</td>\n",
       "      <td>CB</td>\n",
       "      <td>Senegal</td>\n",
       "      <td>88</td>\n",
       "      <td>...</td>\n",
       "      <td>91</td>\n",
       "      <td>88</td>\n",
       "      <td>87</td>\n",
       "      <td>7</td>\n",
       "      <td>11</td>\n",
       "      <td>7</td>\n",
       "      <td>13</td>\n",
       "      <td>5</td>\n",
       "      <td>#Tackling ,#Tactician ,#Strength,#Complete Def...</td>\n",
       "      <td>Power Header</td>\n",
       "    </tr>\n",
       "  </tbody>\n",
       "</table>\n",
       "<p>5 rows × 66 columns</p>\n",
       "</div>"
      ],
      "text/plain": [
       "   id          name                       full_name  birth_date  age  \\\n",
       "0   1      L. Messi  Lionel Andrés Messi Cuccittini  24/06/1987   31   \n",
       "1   2    C. Eriksen    Christian  Dannemann Eriksen  14/02/1992   27   \n",
       "2   3      P. Pogba                      Paul Pogba  15/03/1993   25   \n",
       "3   4    L. Insigne                 Lorenzo Insigne  04/06/1991   27   \n",
       "4   5  K. Koulibaly               Kalidou Koulibaly  20/06/1991   27   \n",
       "\n",
       "   height_cm  weight_kgs  positions nationality  overall_rating  ...  marking  \\\n",
       "0     170.18        72.1   CF,RW,ST   Argentina              94  ...       33   \n",
       "1     154.94        76.2  CAM,RM,CM     Denmark              88  ...       59   \n",
       "2     190.50        83.9     CM,CAM      France              88  ...       63   \n",
       "3     162.56        59.0      LW,ST       Italy              88  ...       51   \n",
       "4     187.96        88.9         CB     Senegal              88  ...       91   \n",
       "\n",
       "   standing_tackle  sliding_tackle GK_diving  GK_handling  GK_kicking  \\\n",
       "0               28              26         6           11          15   \n",
       "1               57              22         9           14           7   \n",
       "2               67              67         5            6           2   \n",
       "3               24              22         8            4          14   \n",
       "4               88              87         7           11           7   \n",
       "\n",
       "   GK_positioning GK_reflexes  \\\n",
       "0              14           8   \n",
       "1               7           6   \n",
       "2               4           3   \n",
       "3               9          10   \n",
       "4              13           5   \n",
       "\n",
       "                                                tags  \\\n",
       "0  #Dribbler,#Distance Shooter,#Crosser,#FK Speci...   \n",
       "1  #Playmaker  ,#Crosser,#FK Specialist,#Complete...   \n",
       "2  #Dribbler,#Playmaker  ,#Strength,#Complete Mid...   \n",
       "3             #Speedster,#Dribbler,#Crosser,#Acrobat   \n",
       "4  #Tackling ,#Tactician ,#Strength,#Complete Def...   \n",
       "\n",
       "                                              traits  \n",
       "0  Finesse Shot,Long Shot Taker (CPU AI Only),Spe...  \n",
       "1  Flair,Long Shot Taker (CPU AI Only),Playmaker ...  \n",
       "2  Flair,Long Passer (CPU AI Only),Long Shot Take...  \n",
       "3  Finesse Shot,Long Shot Taker (CPU AI Only),Spe...  \n",
       "4                                       Power Header  \n",
       "\n",
       "[5 rows x 66 columns]"
      ]
     },
     "execution_count": 36,
     "metadata": {},
     "output_type": "execute_result"
    }
   ],
   "source": [
    "df.head()"
   ]
  },
  {
   "cell_type": "code",
   "execution_count": 39,
   "id": "27194bf3",
   "metadata": {
    "scrolled": true
   },
   "outputs": [
    {
     "name": "stdout",
     "output_type": "stream",
     "text": [
      "<class 'pandas.core.frame.DataFrame'>\n",
      "RangeIndex: 17954 entries, 0 to 17953\n",
      "Data columns (total 66 columns):\n",
      " #   Column                         Non-Null Count  Dtype  \n",
      "---  ------                         --------------  -----  \n",
      " 0   id                             17954 non-null  int64  \n",
      " 1   name                           17954 non-null  object \n",
      " 2   full_name                      17954 non-null  object \n",
      " 3   birth_date                     17954 non-null  object \n",
      " 4   age                            17954 non-null  int64  \n",
      " 5   height_cm                      17954 non-null  float64\n",
      " 6   weight_kgs                     17954 non-null  float64\n",
      " 7   positions                      17954 non-null  object \n",
      " 8   nationality                    17954 non-null  object \n",
      " 9   overall_rating                 17954 non-null  int64  \n",
      " 10  potential                      17954 non-null  int64  \n",
      " 11  value_euro                     17699 non-null  float64\n",
      " 12  wage_euro                      17708 non-null  float64\n",
      " 13  preferred_foot                 17954 non-null  object \n",
      " 14  international_reputation(1-5)  17954 non-null  int64  \n",
      " 15  weak_foot(1-5)                 17954 non-null  int64  \n",
      " 16  skill_moves(1-5)               17954 non-null  int64  \n",
      " 17  work_rate                      17954 non-null  object \n",
      " 18  body_type                      17954 non-null  object \n",
      " 19  release_clause_euro            16117 non-null  float64\n",
      " 20  club_team                      17940 non-null  object \n",
      " 21  club_rating                    17940 non-null  float64\n",
      " 22  club_position                  17940 non-null  object \n",
      " 23  club_jersey_number             17940 non-null  float64\n",
      " 24  club_join_date                 16018 non-null  object \n",
      " 25  contract_end_year              17593 non-null  object \n",
      " 26  national_team                  857 non-null    object \n",
      " 27  national_rating                857 non-null    float64\n",
      " 28  national_team_position         857 non-null    object \n",
      " 29  national_jersey_number         857 non-null    float64\n",
      " 30  crossing                       17954 non-null  int64  \n",
      " 31  finishing                      17954 non-null  int64  \n",
      " 32  heading_accuracy               17954 non-null  int64  \n",
      " 33  short_passing                  17954 non-null  int64  \n",
      " 34  volleys                        17954 non-null  int64  \n",
      " 35  dribbling                      17954 non-null  int64  \n",
      " 36  curve                          17954 non-null  int64  \n",
      " 37  freekick_accuracy              17954 non-null  int64  \n",
      " 38  long_passing                   17954 non-null  int64  \n",
      " 39  ball_control                   17954 non-null  int64  \n",
      " 40  acceleration                   17954 non-null  int64  \n",
      " 41  sprint_speed                   17954 non-null  int64  \n",
      " 42  agility                        17954 non-null  int64  \n",
      " 43  reactions                      17954 non-null  int64  \n",
      " 44  balance                        17954 non-null  int64  \n",
      " 45  shot_power                     17954 non-null  int64  \n",
      " 46  jumping                        17954 non-null  int64  \n",
      " 47  stamina                        17954 non-null  int64  \n",
      " 48  strength                       17954 non-null  int64  \n",
      " 49  long_shots                     17954 non-null  int64  \n",
      " 50  aggression                     17954 non-null  int64  \n",
      " 51  interceptions                  17954 non-null  int64  \n",
      " 52  positioning                    17954 non-null  int64  \n",
      " 53  vision                         17954 non-null  int64  \n",
      " 54  penalties                      17954 non-null  int64  \n",
      " 55  composure                      17954 non-null  int64  \n",
      " 56  marking                        17954 non-null  int64  \n",
      " 57  standing_tackle                17954 non-null  int64  \n",
      " 58  sliding_tackle                 17954 non-null  int64  \n",
      " 59  GK_diving                      17954 non-null  int64  \n",
      " 60  GK_handling                    17954 non-null  int64  \n",
      " 61  GK_kicking                     17954 non-null  int64  \n",
      " 62  GK_positioning                 17954 non-null  int64  \n",
      " 63  GK_reflexes                    17954 non-null  int64  \n",
      " 64  tags                           1417 non-null   object \n",
      " 65  traits                         8137 non-null   object \n",
      "dtypes: float64(9), int64(41), object(16)\n",
      "memory usage: 9.0+ MB\n"
     ]
    }
   ],
   "source": [
    "df.info()"
   ]
  },
  {
   "cell_type": "code",
   "execution_count": 38,
   "id": "e0abdc68",
   "metadata": {},
   "outputs": [],
   "source": [
    "# Thay thế những gtr Na ở các cột có kiểu dữ liệu là số thành giá trị trung bình của cột đó \n",
    "for x in df.columns :\n",
    "    if(df[x].dtype != ('O')):\n",
    "        df[x].fillna(np.mean(df[x]))\n"
   ]
  },
  {
   "cell_type": "code",
   "execution_count": 40,
   "id": "417a22e5",
   "metadata": {},
   "outputs": [
    {
     "data": {
      "text/html": [
       "<div>\n",
       "<style scoped>\n",
       "    .dataframe tbody tr th:only-of-type {\n",
       "        vertical-align: middle;\n",
       "    }\n",
       "\n",
       "    .dataframe tbody tr th {\n",
       "        vertical-align: top;\n",
       "    }\n",
       "\n",
       "    .dataframe thead th {\n",
       "        text-align: right;\n",
       "    }\n",
       "</style>\n",
       "<table border=\"1\" class=\"dataframe\">\n",
       "  <thead>\n",
       "    <tr style=\"text-align: right;\">\n",
       "      <th></th>\n",
       "      <th>id</th>\n",
       "      <th>age</th>\n",
       "      <th>height_cm</th>\n",
       "      <th>weight_kgs</th>\n",
       "      <th>overall_rating</th>\n",
       "      <th>potential</th>\n",
       "      <th>value_euro</th>\n",
       "      <th>wage_euro</th>\n",
       "      <th>international_reputation(1-5)</th>\n",
       "      <th>weak_foot(1-5)</th>\n",
       "      <th>...</th>\n",
       "      <th>penalties</th>\n",
       "      <th>composure</th>\n",
       "      <th>marking</th>\n",
       "      <th>standing_tackle</th>\n",
       "      <th>sliding_tackle</th>\n",
       "      <th>GK_diving</th>\n",
       "      <th>GK_handling</th>\n",
       "      <th>GK_kicking</th>\n",
       "      <th>GK_positioning</th>\n",
       "      <th>GK_reflexes</th>\n",
       "    </tr>\n",
       "  </thead>\n",
       "  <tbody>\n",
       "    <tr>\n",
       "      <th>count</th>\n",
       "      <td>17954.000000</td>\n",
       "      <td>17954.000000</td>\n",
       "      <td>17954.000000</td>\n",
       "      <td>17954.000000</td>\n",
       "      <td>17954.000000</td>\n",
       "      <td>17954.000000</td>\n",
       "      <td>1.769900e+04</td>\n",
       "      <td>17708.000000</td>\n",
       "      <td>17954.000000</td>\n",
       "      <td>17954.000000</td>\n",
       "      <td>...</td>\n",
       "      <td>17954.000000</td>\n",
       "      <td>17954.000000</td>\n",
       "      <td>17954.000000</td>\n",
       "      <td>17954.000000</td>\n",
       "      <td>17954.000000</td>\n",
       "      <td>17954.000000</td>\n",
       "      <td>17954.000000</td>\n",
       "      <td>17954.000000</td>\n",
       "      <td>17954.000000</td>\n",
       "      <td>17954.000000</td>\n",
       "    </tr>\n",
       "    <tr>\n",
       "      <th>mean</th>\n",
       "      <td>8977.500000</td>\n",
       "      <td>25.565445</td>\n",
       "      <td>174.946921</td>\n",
       "      <td>75.301047</td>\n",
       "      <td>66.240169</td>\n",
       "      <td>71.430935</td>\n",
       "      <td>2.479280e+06</td>\n",
       "      <td>9902.134628</td>\n",
       "      <td>1.111674</td>\n",
       "      <td>2.945695</td>\n",
       "      <td>...</td>\n",
       "      <td>48.357302</td>\n",
       "      <td>58.680183</td>\n",
       "      <td>47.162861</td>\n",
       "      <td>47.733040</td>\n",
       "      <td>45.705915</td>\n",
       "      <td>16.784449</td>\n",
       "      <td>16.556199</td>\n",
       "      <td>16.388660</td>\n",
       "      <td>16.541049</td>\n",
       "      <td>16.874067</td>\n",
       "    </tr>\n",
       "    <tr>\n",
       "      <th>std</th>\n",
       "      <td>5183.017702</td>\n",
       "      <td>4.705708</td>\n",
       "      <td>14.029449</td>\n",
       "      <td>7.083684</td>\n",
       "      <td>6.963730</td>\n",
       "      <td>6.131339</td>\n",
       "      <td>5.687014e+06</td>\n",
       "      <td>21995.593750</td>\n",
       "      <td>0.392168</td>\n",
       "      <td>0.663691</td>\n",
       "      <td>...</td>\n",
       "      <td>15.810844</td>\n",
       "      <td>11.625541</td>\n",
       "      <td>20.037346</td>\n",
       "      <td>21.674973</td>\n",
       "      <td>21.285812</td>\n",
       "      <td>17.893895</td>\n",
       "      <td>17.108234</td>\n",
       "      <td>16.701447</td>\n",
       "      <td>17.231495</td>\n",
       "      <td>18.182943</td>\n",
       "    </tr>\n",
       "    <tr>\n",
       "      <th>min</th>\n",
       "      <td>1.000000</td>\n",
       "      <td>17.000000</td>\n",
       "      <td>152.400000</td>\n",
       "      <td>49.900000</td>\n",
       "      <td>47.000000</td>\n",
       "      <td>48.000000</td>\n",
       "      <td>1.000000e+04</td>\n",
       "      <td>1000.000000</td>\n",
       "      <td>1.000000</td>\n",
       "      <td>1.000000</td>\n",
       "      <td>...</td>\n",
       "      <td>5.000000</td>\n",
       "      <td>12.000000</td>\n",
       "      <td>3.000000</td>\n",
       "      <td>2.000000</td>\n",
       "      <td>3.000000</td>\n",
       "      <td>1.000000</td>\n",
       "      <td>1.000000</td>\n",
       "      <td>1.000000</td>\n",
       "      <td>1.000000</td>\n",
       "      <td>1.000000</td>\n",
       "    </tr>\n",
       "    <tr>\n",
       "      <th>25%</th>\n",
       "      <td>4489.250000</td>\n",
       "      <td>22.000000</td>\n",
       "      <td>154.940000</td>\n",
       "      <td>69.900000</td>\n",
       "      <td>62.000000</td>\n",
       "      <td>67.000000</td>\n",
       "      <td>3.250000e+05</td>\n",
       "      <td>1000.000000</td>\n",
       "      <td>1.000000</td>\n",
       "      <td>3.000000</td>\n",
       "      <td>...</td>\n",
       "      <td>38.000000</td>\n",
       "      <td>51.000000</td>\n",
       "      <td>30.000000</td>\n",
       "      <td>27.000000</td>\n",
       "      <td>24.000000</td>\n",
       "      <td>8.000000</td>\n",
       "      <td>8.000000</td>\n",
       "      <td>8.000000</td>\n",
       "      <td>8.000000</td>\n",
       "      <td>8.000000</td>\n",
       "    </tr>\n",
       "    <tr>\n",
       "      <th>50%</th>\n",
       "      <td>8977.500000</td>\n",
       "      <td>25.000000</td>\n",
       "      <td>175.260000</td>\n",
       "      <td>74.800000</td>\n",
       "      <td>66.000000</td>\n",
       "      <td>71.000000</td>\n",
       "      <td>7.000000e+05</td>\n",
       "      <td>3000.000000</td>\n",
       "      <td>1.000000</td>\n",
       "      <td>3.000000</td>\n",
       "      <td>...</td>\n",
       "      <td>49.000000</td>\n",
       "      <td>60.000000</td>\n",
       "      <td>52.500000</td>\n",
       "      <td>55.000000</td>\n",
       "      <td>52.000000</td>\n",
       "      <td>11.000000</td>\n",
       "      <td>11.000000</td>\n",
       "      <td>11.000000</td>\n",
       "      <td>11.000000</td>\n",
       "      <td>11.000000</td>\n",
       "    </tr>\n",
       "    <tr>\n",
       "      <th>75%</th>\n",
       "      <td>13465.750000</td>\n",
       "      <td>29.000000</td>\n",
       "      <td>185.420000</td>\n",
       "      <td>79.800000</td>\n",
       "      <td>71.000000</td>\n",
       "      <td>75.000000</td>\n",
       "      <td>2.100000e+06</td>\n",
       "      <td>9000.000000</td>\n",
       "      <td>1.000000</td>\n",
       "      <td>3.000000</td>\n",
       "      <td>...</td>\n",
       "      <td>60.000000</td>\n",
       "      <td>67.000000</td>\n",
       "      <td>64.000000</td>\n",
       "      <td>66.000000</td>\n",
       "      <td>64.000000</td>\n",
       "      <td>14.000000</td>\n",
       "      <td>14.000000</td>\n",
       "      <td>14.000000</td>\n",
       "      <td>14.000000</td>\n",
       "      <td>14.000000</td>\n",
       "    </tr>\n",
       "    <tr>\n",
       "      <th>max</th>\n",
       "      <td>17954.000000</td>\n",
       "      <td>46.000000</td>\n",
       "      <td>205.740000</td>\n",
       "      <td>110.200000</td>\n",
       "      <td>94.000000</td>\n",
       "      <td>95.000000</td>\n",
       "      <td>1.105000e+08</td>\n",
       "      <td>565000.000000</td>\n",
       "      <td>5.000000</td>\n",
       "      <td>5.000000</td>\n",
       "      <td>...</td>\n",
       "      <td>92.000000</td>\n",
       "      <td>96.000000</td>\n",
       "      <td>94.000000</td>\n",
       "      <td>93.000000</td>\n",
       "      <td>90.000000</td>\n",
       "      <td>90.000000</td>\n",
       "      <td>92.000000</td>\n",
       "      <td>92.000000</td>\n",
       "      <td>90.000000</td>\n",
       "      <td>94.000000</td>\n",
       "    </tr>\n",
       "  </tbody>\n",
       "</table>\n",
       "<p>8 rows × 50 columns</p>\n",
       "</div>"
      ],
      "text/plain": [
       "                 id           age     height_cm    weight_kgs  overall_rating  \\\n",
       "count  17954.000000  17954.000000  17954.000000  17954.000000    17954.000000   \n",
       "mean    8977.500000     25.565445    174.946921     75.301047       66.240169   \n",
       "std     5183.017702      4.705708     14.029449      7.083684        6.963730   \n",
       "min        1.000000     17.000000    152.400000     49.900000       47.000000   \n",
       "25%     4489.250000     22.000000    154.940000     69.900000       62.000000   \n",
       "50%     8977.500000     25.000000    175.260000     74.800000       66.000000   \n",
       "75%    13465.750000     29.000000    185.420000     79.800000       71.000000   \n",
       "max    17954.000000     46.000000    205.740000    110.200000       94.000000   \n",
       "\n",
       "          potential    value_euro      wage_euro  \\\n",
       "count  17954.000000  1.769900e+04   17708.000000   \n",
       "mean      71.430935  2.479280e+06    9902.134628   \n",
       "std        6.131339  5.687014e+06   21995.593750   \n",
       "min       48.000000  1.000000e+04    1000.000000   \n",
       "25%       67.000000  3.250000e+05    1000.000000   \n",
       "50%       71.000000  7.000000e+05    3000.000000   \n",
       "75%       75.000000  2.100000e+06    9000.000000   \n",
       "max       95.000000  1.105000e+08  565000.000000   \n",
       "\n",
       "       international_reputation(1-5)  weak_foot(1-5)  ...     penalties  \\\n",
       "count                   17954.000000    17954.000000  ...  17954.000000   \n",
       "mean                        1.111674        2.945695  ...     48.357302   \n",
       "std                         0.392168        0.663691  ...     15.810844   \n",
       "min                         1.000000        1.000000  ...      5.000000   \n",
       "25%                         1.000000        3.000000  ...     38.000000   \n",
       "50%                         1.000000        3.000000  ...     49.000000   \n",
       "75%                         1.000000        3.000000  ...     60.000000   \n",
       "max                         5.000000        5.000000  ...     92.000000   \n",
       "\n",
       "          composure       marking  standing_tackle  sliding_tackle  \\\n",
       "count  17954.000000  17954.000000     17954.000000    17954.000000   \n",
       "mean      58.680183     47.162861        47.733040       45.705915   \n",
       "std       11.625541     20.037346        21.674973       21.285812   \n",
       "min       12.000000      3.000000         2.000000        3.000000   \n",
       "25%       51.000000     30.000000        27.000000       24.000000   \n",
       "50%       60.000000     52.500000        55.000000       52.000000   \n",
       "75%       67.000000     64.000000        66.000000       64.000000   \n",
       "max       96.000000     94.000000        93.000000       90.000000   \n",
       "\n",
       "          GK_diving   GK_handling    GK_kicking  GK_positioning   GK_reflexes  \n",
       "count  17954.000000  17954.000000  17954.000000    17954.000000  17954.000000  \n",
       "mean      16.784449     16.556199     16.388660       16.541049     16.874067  \n",
       "std       17.893895     17.108234     16.701447       17.231495     18.182943  \n",
       "min        1.000000      1.000000      1.000000        1.000000      1.000000  \n",
       "25%        8.000000      8.000000      8.000000        8.000000      8.000000  \n",
       "50%       11.000000     11.000000     11.000000       11.000000     11.000000  \n",
       "75%       14.000000     14.000000     14.000000       14.000000     14.000000  \n",
       "max       90.000000     92.000000     92.000000       90.000000     94.000000  \n",
       "\n",
       "[8 rows x 50 columns]"
      ]
     },
     "execution_count": 40,
     "metadata": {},
     "output_type": "execute_result"
    }
   ],
   "source": [
    "df.describe()"
   ]
  },
  {
   "cell_type": "markdown",
   "id": "480387b4",
   "metadata": {},
   "source": [
    "# Analysis goals by age ( 20 -> 30)"
   ]
  },
  {
   "cell_type": "code",
   "execution_count": 9,
   "id": "952310e9",
   "metadata": {},
   "outputs": [
    {
     "name": "stderr",
     "output_type": "stream",
     "text": [
      "C:\\Users\\Administrator\\AppData\\Local\\Temp\\ipykernel_12064\\1906264658.py:1: FutureWarning: The default value of numeric_only in DataFrameGroupBy.sum is deprecated. In a future version, numeric_only will default to False. Either specify numeric_only or select only columns which should be valid for the function.\n",
      "  df_goalage = df.groupby('age').sum()['finishing'].reset_index()\n"
     ]
    }
   ],
   "source": [
    "df_goalage = df.groupby('age').sum()['finishing'].reset_index()\n",
    "df_goalage = df_goalage.set_index('age')"
   ]
  },
  {
   "cell_type": "code",
   "execution_count": 10,
   "id": "241f8073",
   "metadata": {},
   "outputs": [
    {
     "data": {
      "text/plain": [
       "Text(0.5, 1.0, 'Age and goal')"
      ]
     },
     "execution_count": 10,
     "metadata": {},
     "output_type": "execute_result"
    },
    {
     "data": {
      "image/png": "[encoded data removed]",
      "text/plain": [
       "<Figure size 640x480 with 1 Axes>"
      ]
     },
     "metadata": {},
     "output_type": "display_data"
    }
   ],
   "source": [
    "fig = plt.figure()\n",
    "axes1 = fig.add_axes([0.7, -1, 2, 0.8]) \n",
    "# đối tượng Figure chính Axes 1\n",
    "axes1.bar(df_goalage.index, df_goalage['finishing'])\n",
    "axes1.set_xticks(range(df_goalage.index[0],df_goalage.index[len(df_goalage.index)-1]))# cách hiển thị đầy đủ số ở trục x ở đây là tuổi 17 --> 46 \n",
    "axes1.set_xlabel('Age')\n",
    "axes1.set_ylabel('Goal')\n",
    "axes1.set_title('Age and goal')\n"
   ]
  },
  {
   "cell_type": "markdown",
   "id": "9ee59237",
   "metadata": {},
   "source": [
    "# Analysis Value of footballer by ages"
   ]
  },
  {
   "cell_type": "code",
   "execution_count": 6,
   "id": "8c1e6d1b",
   "metadata": {},
   "outputs": [],
   "source": [
    "df_valuesage = df.groupby('age').sum()['value_euro']"
   ]
  },
  {
   "cell_type": "code",
   "execution_count": 7,
   "id": "cbd8b8e1",
   "metadata": {},
   "outputs": [
    {
     "data": {
      "text/plain": [
       "Text(0.5, 1.0, 'Value by Age')"
      ]
     },
     "execution_count": 7,
     "metadata": {},
     "output_type": "execute_result"
    },
    {
     "data": {
      "image/png": "[encoded data removed]",
      "text/plain": [
       "<Figure size 432x288 with 1 Axes>"
      ]
     },
     "metadata": {
      "needs_background": "light"
     },
     "output_type": "display_data"
    }
   ],
   "source": [
    "fig = plt.figure()# Khai báo một đối tượng cho biểu đồ\n",
    "axes = fig.add_axes([0.1, 0.1, 2, 0.8])# left, bottom, width, height (khoảng từ 0 đến 1)\n",
    "axes.plot(df_valuesage .index, df_valuesage , \"ro-\")\n",
    "axes.set_xticks(range(df_valuesage.index[0],df_valuesage.index[len(df_valuesage.index)-1]), df_valuesage.index,rotation =\"90\")\n",
    "axes.set_xlabel('Age')\n",
    "axes.set_ylabel('Values')\n",
    "axes.set_title('Value by Age')"
   ]
  },
  {
   "cell_type": "markdown",
   "id": "1b5121bf",
   "metadata": {},
   "source": [
    "# Number of goals by left and right leg"
   ]
  },
  {
   "cell_type": "code",
   "execution_count": 41,
   "id": "d38207dc",
   "metadata": {
    "scrolled": false
   },
   "outputs": [
    {
     "name": "stderr",
     "output_type": "stream",
     "text": [
      "C:\\Users\\Administrator\\AppData\\Local\\Temp\\ipykernel_12064\\2479459141.py:1: FutureWarning: The default value of numeric_only in DataFrameGroupBy.sum is deprecated. In a future version, numeric_only will default to False. Either specify numeric_only or select only columns which should be valid for the function.\n",
      "  df_foot = df.groupby('preferred_foot').sum()['finishing']\n"
     ]
    },
    {
     "data": {
      "image/png": "[encoded data removed]",
      "text/plain": [
       "<Figure size 640x480 with 1 Axes>"
      ]
     },
     "metadata": {},
     "output_type": "display_data"
    }
   ],
   "source": [
    "df_foot = df.groupby('preferred_foot').sum()['finishing']\n",
    "plt.bar(['Left','Right'],df_foot,color = ['green','blue'])\n",
    "plt.title('preferred_foot and goal', fontsize=14)\n",
    "plt.xlabel('Foot', fontsize=14)\n",
    "plt.ylabel('Goal', fontsize=14)\n",
    "plt.grid(True)\n",
    "plt.show()"
   ]
  },
  {
   "cell_type": "markdown",
   "id": "480462ce",
   "metadata": {},
   "source": [
    "# Compare value between LB players and RB players"
   ]
  },
  {
   "cell_type": "code",
   "execution_count": 9,
   "id": "d3b8713c",
   "metadata": {},
   "outputs": [
    {
     "name": "stderr",
     "output_type": "stream",
     "text": [
      "C:\\Users\\Administrator\\AppData\\Local\\Temp\\ipykernel_10504\\1738977060.py:14: SettingWithCopyWarning: \n",
      "A value is trying to be set on a copy of a slice from a DataFrame.\n",
      "Try using .loc[row_indexer,col_indexer] = value instead\n",
      "\n",
      "See the caveats in the documentation: https://pandas.pydata.org/pandas-docs/stable/user_guide/indexing.html#returning-a-view-versus-a-copy\n",
      "  df_LBandRB['positions'] = np.where(df_LBandRB['positions'].apply(abc),'LB','RB')\n"
     ]
    }
   ],
   "source": [
    "# Get LB and RB players\n",
    "def check (x):\n",
    "        if 'LB' in x or 'RB' in x:\n",
    "            return True\n",
    "        else:\n",
    "            return False\n",
    "        \n",
    "df_LBandRB = df[df[\"positions\"].apply(check) == True]\n",
    "\n",
    "#Change the 'position' to onlyone LB or RB value \n",
    "def abc (x):\n",
    "        if 'LB' in x:\n",
    "            return True \n",
    "df_LBandRB['positions'] = np.where(df_LBandRB['positions'].apply(abc),'LB','RB')\n",
    "df_LBRB_VL = df_LBandRB.groupby('positions').sum()['value_euro']"
   ]
  },
  {
   "cell_type": "code",
   "execution_count": 10,
   "id": "3156d715",
   "metadata": {},
   "outputs": [
    {
     "data": {
      "image/png": "[encoded data removed]",
      "text/plain": [
       "<Figure size 432x288 with 1 Axes>"
      ]
     },
     "metadata": {},
     "output_type": "display_data"
    }
   ],
   "source": [
    "plt.pie(df_LBRB_VL,autopct = '%1.1f%%',labels=['LB','RB'])\n",
    "plt.title('LB and RB mean values', fontsize=14)\n",
    "plt.legend()\n",
    "plt.grid(True)\n",
    "plt.show()"
   ]
  },
  {
   "cell_type": "markdown",
   "id": "f9e7b0d1",
   "metadata": {},
   "source": [
    "# The ratio between \"ball_control\" ,\"short_passing\", \"long_passing\" first 10 player "
   ]
  },
  {
   "cell_type": "code",
   "execution_count": 11,
   "id": "2c666f72",
   "metadata": {},
   "outputs": [
    {
     "data": {
      "text/html": [
       "<div>\n",
       "<style scoped>\n",
       "    .dataframe tbody tr th:only-of-type {\n",
       "        vertical-align: middle;\n",
       "    }\n",
       "\n",
       "    .dataframe tbody tr th {\n",
       "        vertical-align: top;\n",
       "    }\n",
       "\n",
       "    .dataframe thead th {\n",
       "        text-align: right;\n",
       "    }\n",
       "</style>\n",
       "<table border=\"1\" class=\"dataframe\">\n",
       "  <thead>\n",
       "    <tr style=\"text-align: right;\">\n",
       "      <th></th>\n",
       "      <th>name</th>\n",
       "      <th>ball_control</th>\n",
       "      <th>short_passing</th>\n",
       "      <th>long_passing</th>\n",
       "    </tr>\n",
       "  </thead>\n",
       "  <tbody>\n",
       "    <tr>\n",
       "      <th>0</th>\n",
       "      <td>L. Messi</td>\n",
       "      <td>96</td>\n",
       "      <td>92</td>\n",
       "      <td>89</td>\n",
       "    </tr>\n",
       "    <tr>\n",
       "      <th>1</th>\n",
       "      <td>C. Eriksen</td>\n",
       "      <td>91</td>\n",
       "      <td>91</td>\n",
       "      <td>89</td>\n",
       "    </tr>\n",
       "    <tr>\n",
       "      <th>2</th>\n",
       "      <td>P. Pogba</td>\n",
       "      <td>90</td>\n",
       "      <td>86</td>\n",
       "      <td>90</td>\n",
       "    </tr>\n",
       "    <tr>\n",
       "      <th>3</th>\n",
       "      <td>L. Insigne</td>\n",
       "      <td>93</td>\n",
       "      <td>85</td>\n",
       "      <td>78</td>\n",
       "    </tr>\n",
       "    <tr>\n",
       "      <th>4</th>\n",
       "      <td>K. Koulibaly</td>\n",
       "      <td>63</td>\n",
       "      <td>68</td>\n",
       "      <td>60</td>\n",
       "    </tr>\n",
       "    <tr>\n",
       "      <th>5</th>\n",
       "      <td>V. van Dijk</td>\n",
       "      <td>76</td>\n",
       "      <td>79</td>\n",
       "      <td>81</td>\n",
       "    </tr>\n",
       "    <tr>\n",
       "      <th>6</th>\n",
       "      <td>K. Mbappé</td>\n",
       "      <td>91</td>\n",
       "      <td>82</td>\n",
       "      <td>73</td>\n",
       "    </tr>\n",
       "    <tr>\n",
       "      <th>7</th>\n",
       "      <td>S. Agüero</td>\n",
       "      <td>89</td>\n",
       "      <td>81</td>\n",
       "      <td>64</td>\n",
       "    </tr>\n",
       "    <tr>\n",
       "      <th>8</th>\n",
       "      <td>M. Neuer</td>\n",
       "      <td>46</td>\n",
       "      <td>55</td>\n",
       "      <td>59</td>\n",
       "    </tr>\n",
       "    <tr>\n",
       "      <th>9</th>\n",
       "      <td>E. Cavani</td>\n",
       "      <td>82</td>\n",
       "      <td>78</td>\n",
       "      <td>52</td>\n",
       "    </tr>\n",
       "  </tbody>\n",
       "</table>\n",
       "</div>"
      ],
      "text/plain": [
       "           name  ball_control  short_passing  long_passing\n",
       "0      L. Messi            96             92            89\n",
       "1    C. Eriksen            91             91            89\n",
       "2      P. Pogba            90             86            90\n",
       "3    L. Insigne            93             85            78\n",
       "4  K. Koulibaly            63             68            60\n",
       "5   V. van Dijk            76             79            81\n",
       "6     K. Mbappé            91             82            73\n",
       "7     S. Agüero            89             81            64\n",
       "8      M. Neuer            46             55            59\n",
       "9     E. Cavani            82             78            52"
      ]
     },
     "execution_count": 11,
     "metadata": {},
     "output_type": "execute_result"
    }
   ],
   "source": [
    "df_cp = df[[\"name\",\"ball_control\",\"short_passing\",'long_passing']].head(10)\n",
    "df_cp"
   ]
  },
  {
   "cell_type": "code",
   "execution_count": 12,
   "id": "9494e866",
   "metadata": {},
   "outputs": [
    {
     "data": {
      "image/png": "[encoded data removed]",
      "text/plain": [
       "<Figure size 432x288 with 1 Axes>"
      ]
     },
     "metadata": {
      "needs_background": "light"
     },
     "output_type": "display_data"
    }
   ],
   "source": [
    "# Cách vẽ biểu đồ cột khi có 2 dữ liệu cột \n",
    "df_cp.set_index(\"name\").plot(kind= \"bar\",stacked = True)\n",
    "plt.xticks(rotation = '45')\n",
    "plt.title('Fis and Cro', fontsize=14)\n",
    "plt.xlabel('finishing', fontsize=14)\n",
    "plt.ylabel('crossing', fontsize=14)\n",
    "plt.show()"
   ]
  },
  {
   "cell_type": "markdown",
   "id": "9ebd74a1",
   "metadata": {},
   "source": [
    "# Show linear regression chart of first hundred observes between crossing and finishing"
   ]
  },
  {
   "cell_type": "code",
   "execution_count": 13,
   "id": "d9b473ea",
   "metadata": {},
   "outputs": [
    {
     "data": {
      "image/png": "[encoded data removed]",
      "text/plain": [
       "<Figure size 432x288 with 1 Axes>"
      ]
     },
     "metadata": {
      "needs_background": "light"
     },
     "output_type": "display_data"
    },
    {
     "data": {
      "text/html": [
       "<table class=\"simpletable\">\n",
       "<caption>OLS Regression Results</caption>\n",
       "<tr>\n",
       "  <th>Dep. Variable:</th>        <td>finishing</td>    <th>  R-squared:         </th> <td>   0.622</td>\n",
       "</tr>\n",
       "<tr>\n",
       "  <th>Model:</th>                   <td>OLS</td>       <th>  Adj. R-squared:    </th> <td>   0.618</td>\n",
       "</tr>\n",
       "<tr>\n",
       "  <th>Method:</th>             <td>Least Squares</td>  <th>  F-statistic:       </th> <td>   162.8</td>\n",
       "</tr>\n",
       "<tr>\n",
       "  <th>Date:</th>             <td>Mon, 05 Dec 2022</td> <th>  Prob (F-statistic):</th> <td>1.26e-22</td>\n",
       "</tr>\n",
       "<tr>\n",
       "  <th>Time:</th>                 <td>10:22:18</td>     <th>  Log-Likelihood:    </th> <td> -409.37</td>\n",
       "</tr>\n",
       "<tr>\n",
       "  <th>No. Observations:</th>      <td>   101</td>      <th>  AIC:               </th> <td>   822.7</td>\n",
       "</tr>\n",
       "<tr>\n",
       "  <th>Df Residuals:</th>          <td>    99</td>      <th>  BIC:               </th> <td>   828.0</td>\n",
       "</tr>\n",
       "<tr>\n",
       "  <th>Df Model:</th>              <td>     1</td>      <th>                     </th>     <td> </td>   \n",
       "</tr>\n",
       "<tr>\n",
       "  <th>Covariance Type:</th>      <td>nonrobust</td>    <th>                     </th>     <td> </td>   \n",
       "</tr>\n",
       "</table>\n",
       "<table class=\"simpletable\">\n",
       "<tr>\n",
       "      <td></td>        <th>coef</th>     <th>std err</th>      <th>t</th>      <th>P>|t|</th>  <th>[0.025</th>    <th>0.975]</th>  \n",
       "</tr>\n",
       "<tr>\n",
       "  <th>const</th>    <td>    5.5154</td> <td>    4.793</td> <td>    1.151</td> <td> 0.253</td> <td>   -3.995</td> <td>   15.026</td>\n",
       "</tr>\n",
       "<tr>\n",
       "  <th>crossing</th> <td>    0.8724</td> <td>    0.068</td> <td>   12.759</td> <td> 0.000</td> <td>    0.737</td> <td>    1.008</td>\n",
       "</tr>\n",
       "</table>\n",
       "<table class=\"simpletable\">\n",
       "<tr>\n",
       "  <th>Omnibus:</th>       <td> 7.454</td> <th>  Durbin-Watson:     </th> <td>   1.817</td>\n",
       "</tr>\n",
       "<tr>\n",
       "  <th>Prob(Omnibus):</th> <td> 0.024</td> <th>  Jarque-Bera (JB):  </th> <td>  14.329</td>\n",
       "</tr>\n",
       "<tr>\n",
       "  <th>Skew:</th>          <td>-0.027</td> <th>  Prob(JB):          </th> <td>0.000774</td>\n",
       "</tr>\n",
       "<tr>\n",
       "  <th>Kurtosis:</th>      <td> 4.844</td> <th>  Cond. No.          </th> <td>    240.</td>\n",
       "</tr>\n",
       "</table><br/><br/>Notes:<br/>[1] Standard Errors assume that the covariance matrix of the errors is correctly specified."
      ],
      "text/plain": [
       "<class 'statsmodels.iolib.summary.Summary'>\n",
       "\"\"\"\n",
       "                            OLS Regression Results                            \n",
       "==============================================================================\n",
       "Dep. Variable:              finishing   R-squared:                       0.622\n",
       "Model:                            OLS   Adj. R-squared:                  0.618\n",
       "Method:                 Least Squares   F-statistic:                     162.8\n",
       "Date:                Mon, 05 Dec 2022   Prob (F-statistic):           1.26e-22\n",
       "Time:                        10:22:18   Log-Likelihood:                -409.37\n",
       "No. Observations:                 101   AIC:                             822.7\n",
       "Df Residuals:                      99   BIC:                             828.0\n",
       "Df Model:                           1                                         \n",
       "Covariance Type:            nonrobust                                         \n",
       "==============================================================================\n",
       "                 coef    std err          t      P>|t|      [0.025      0.975]\n",
       "------------------------------------------------------------------------------\n",
       "const          5.5154      4.793      1.151      0.253      -3.995      15.026\n",
       "crossing       0.8724      0.068     12.759      0.000       0.737       1.008\n",
       "==============================================================================\n",
       "Omnibus:                        7.454   Durbin-Watson:                   1.817\n",
       "Prob(Omnibus):                  0.024   Jarque-Bera (JB):               14.329\n",
       "Skew:                          -0.027   Prob(JB):                     0.000774\n",
       "Kurtosis:                       4.844   Cond. No.                         240.\n",
       "==============================================================================\n",
       "\n",
       "Notes:\n",
       "[1] Standard Errors assume that the covariance matrix of the errors is correctly specified.\n",
       "\"\"\""
      ]
     },
     "execution_count": 13,
     "metadata": {},
     "output_type": "execute_result"
    }
   ],
   "source": [
    "df1 = df.loc[0:100,[\"crossing\",\"finishing\"]]\n",
    "x = df1[\"crossing\"]\n",
    "y = df1[\"finishing\"]\n",
    "b2, b1 = np.polyfit(x, y, 1)# create B1 and B2 \n",
    "plt.scatter(x,y,c = 'pink', marker=\"o\")\n",
    "plt.plot(x,b1 + b2*x,\"black\")# draw linear regression line \n",
    "plt.xlabel('crossing', fontsize=14)\n",
    "plt.ylabel('fisnishing', fontsize=14)\n",
    "plt.show()\n",
    "b0 = sm.add_constant(x)\n",
    "resutl = sm.OLS(y,b0).fit()\n",
    "resutl.summary()"
   ]
  },
  {
   "cell_type": "markdown",
   "id": "fc4f6700",
   "metadata": {},
   "source": [
    "# FIND TOP 5 BEST PLAYER IN 4 POSITION (ST (TIEN DAO), CDM (TIEN VE), CB (HAU VE), GK (THU MON))"
   ]
  },
  {
   "cell_type": "code",
   "execution_count": 14,
   "id": "376b9914",
   "metadata": {},
   "outputs": [],
   "source": [
    "def st (a):\n",
    "    if \"ST\" in a.split(\",\"):\n",
    "        return True\n",
    "def cdm (a):\n",
    "    if \"CDM\" in a.split(\",\"):\n",
    "        return True\n",
    "def cb (a):\n",
    "    if \"CB\" in a.split(\",\"):\n",
    "        return True\n",
    "def gk (a):\n",
    "    if \"GK\" in a.split(\",\"):\n",
    "        return True\n",
    "    \n",
    "a = [\"finishing\",'positioning'] # A good ST is a person who have this elements \n",
    "df_st = df.loc[df[\"positions\"].apply(st) == True,[\"full_name\"]+a].sort_values(by = a , ascending = False)[0:5]\n",
    "\n",
    "b = [\"vision\",\"short_passing\",\"long_passing\"] # A good CDM is a person who have this elements \n",
    "df_cdm = df.loc[df[\"positions\"].apply(cdm) == True,[\"full_name\"]+b].sort_values(by = b , ascending = False)[0:5]\n",
    "\n",
    "c= [\"standing_tackle\",\"sliding_tackle\"]# A good CB is a person who have this elements \n",
    "df_cb = df.loc[df[\"positions\"].apply(cb) == True,[\"full_name\"]+c].sort_values(by = c , ascending = False)[0:5]\n",
    "\n",
    "d= [\"GK_handling\", \"GK_reflexes\"] # A good GK is a person who have this elements \n",
    "df_gk = df.loc[df[\"positions\"].apply(gk) == True,[\"full_name\"]+d].sort_values(by = d , ascending = False)[0:5]"
   ]
  },
  {
   "cell_type": "code",
   "execution_count": 15,
   "id": "9dc361a5",
   "metadata": {},
   "outputs": [
    {
     "data": {
      "image/png": "[encoded data removed]",
      "text/plain": [
       "<Figure size 432x288 with 1 Axes>"
      ]
     },
     "metadata": {
      "needs_background": "light"
     },
     "output_type": "display_data"
    },
    {
     "data": {
      "image/png": "[encoded data removed]",
      "text/plain": [
       "<Figure size 432x288 with 1 Axes>"
      ]
     },
     "metadata": {
      "needs_background": "light"
     },
     "output_type": "display_data"
    }
   ],
   "source": [
    "df_st.set_index(\"full_name\").plot(kind= \"bar\", color =[\"#FF6699\",\"#9966FF\"], stacked = False)\n",
    "plt.xticks(rotation = '90')\n",
    "plt.title( \"Top 5 ST\", fontsize=14)\n",
    "plt.xlabel('Name', fontsize=14)\n",
    "plt.show()\n",
    "\n",
    "df_cdm.set_index(\"full_name\").plot(kind= \"barh\", stacked = False)\n",
    "plt.xticks(rotation = '90')\n",
    "plt.title( \"Top 5 CDM\", fontsize=14)\n",
    "plt.xlabel('Name', fontsize=14)\n",
    "plt.show()\n"
   ]
  },
  {
   "cell_type": "code",
   "execution_count": 16,
   "id": "1c1efcef",
   "metadata": {},
   "outputs": [
    {
     "data": {
      "image/png": "[encoded data removed]",
      "text/plain": [
       "<Figure size 432x288 with 1 Axes>"
      ]
     },
     "metadata": {
      "needs_background": "light"
     },
     "output_type": "display_data"
    },
    {
     "data": {
      "image/png": "[encoded data removed]",
      "text/plain": [
       "<Figure size 432x288 with 1 Axes>"
      ]
     },
     "metadata": {
      "needs_background": "light"
     },
     "output_type": "display_data"
    }
   ],
   "source": [
    "df_cb.set_index(\"full_name\").plot(kind= \"bar\", color=[\"#66CCFF\",\"#999999\"], stacked = False)\n",
    "plt.xticks(rotation = '90')\n",
    "plt.title( \"Top 5 CB\", fontsize=14)\n",
    "plt.xlabel('Name', fontsize=14)\n",
    "plt.show()\n",
    "\n",
    "df_gk.set_index(\"full_name\").plot(kind= \"bar\",color=[\"#3333FF\",\"#993366\"], stacked = False)\n",
    "plt.xticks(rotation = '90')\n",
    "plt.title( \"Top 5 GK\", fontsize=14)\n",
    "plt.xlabel('Name', fontsize=14)\n",
    "plt.show()"
   ]
  }
 ],
 "metadata": {
  "kernelspec": {
   "display_name": "Python 3 (ipykernel)",
   "language": "python",
   "name": "python3"
  },
  "language_info": {
   "codemirror_mode": {
    "name": "ipython",
    "version": 3
   },
   "file_extension": ".py",
   "mimetype": "text/x-python",
   "name": "python",
   "nbconvert_exporter": "python",
   "pygments_lexer": "ipython3",
   "version": "3.9.12"
  }
 },
 "nbformat": 4,
 "nbformat_minor": 5
}
